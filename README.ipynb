{
 "cells": [
  {
   "cell_type": "markdown",
   "metadata": {},
   "source": [
    "# Assignment for FullThrottle Labs\n",
    "\n",
    "## Requirement\n",
    "Create a framework in Django to upload/download user sessions data using REST API requests\n",
    "\n",
    "## Deployment\n",
    "Project has been deployed at - \n",
    "http://LakkireddyMadhuri.pythonanywhere.com/\n",
    "\n",
    "with the following endpoints  \n",
    "For inserting data - POST @ `sample/posts`  \n",
    "For displaying/serving the data - GET @ `sample/gets`"
   ]
  },
  {
   "cell_type": "markdown",
   "metadata": {},
   "source": [
    "### How to insert data - POST @ `sample/posts`"
   ]
  },
  {
   "cell_type": "markdown",
   "metadata": {},
   "source": [
    "#### Sample payload for popluating the tables"
   ]
  },
  {
   "cell_type": "code",
   "execution_count": 16,
   "metadata": {
    "ExecuteTime": {
     "end_time": "2021-02-10T10:56:43.221910Z",
     "start_time": "2021-02-10T10:56:43.216019Z"
    }
   },
   "outputs": [
    {
     "data": {
      "text/plain": [
       "{'members': [{'id': 'W012A3CDE',\n",
       "   'real_name': 'Egon Spengler',\n",
       "   'tz': 'America/Los_Angeles',\n",
       "   'activity_periods': [{'start_time': 'Feb 1 2020  1:33PM',\n",
       "     'end_time': 'Feb 1 2020 1:54PM'},\n",
       "    {'start_time': 'Mar 1 2020  1:11AM', 'end_time': 'Mar 1 2020 1:00PM'},\n",
       "    {'start_time': 'Mar 16 2020  1:33PM', 'end_time': 'Mar 16 2020 1:02PM'}]},\n",
       "  {'id': 'W07QCRPA4',\n",
       "   'real_name': 'Glinda Southgood',\n",
       "   'tz': 'Asia/Kolkata',\n",
       "   'activity_periods': [{'start_time': 'Feb 1 2020  2:33PM',\n",
       "     'end_time': 'Feb 1 2020 2:54PM'},\n",
       "    {'start_time': 'Mar 1 2020  2:11AM', 'end_time': 'Mar 1 2020 2:00PM'},\n",
       "    {'start_time': 'Mar 16 2020  2:33PM', 'end_time': 'Mar 16 2020 2:02PM'}]}]}"
      ]
     },
     "execution_count": 16,
     "metadata": {},
     "output_type": "execute_result"
    }
   ],
   "source": [
    "payload=\"{\\r\\n\\t\\\"members\\\": [{\\r\\n\\t\\t\\t\\\"id\\\": \\\"W012A3CDE\\\",\\r\\n\\t\\t\\t\\\"real_name\\\": \\\"Egon Spengler\\\",\\r\\n\\t\\t\\t\\\"tz\\\": \\\"America/Los_Angeles\\\",\\r\\n\\t\\t\\t\\\"activity_periods\\\": [{\\r\\n\\t\\t\\t\\t\\t\\\"start_time\\\": \\\"Feb 1 2020  1:33PM\\\",\\r\\n\\t\\t\\t\\t\\t\\\"end_time\\\": \\\"Feb 1 2020 1:54PM\\\"\\r\\n\\t\\t\\t\\t},\\r\\n\\t\\t\\t\\t{\\r\\n\\t\\t\\t\\t\\t\\\"start_time\\\": \\\"Mar 1 2020  1:11AM\\\",\\r\\n\\t\\t\\t\\t\\t\\\"end_time\\\": \\\"Mar 1 2020 1:00PM\\\"\\r\\n\\t\\t\\t\\t},\\r\\n\\t\\t\\t\\t{\\r\\n\\t\\t\\t\\t\\t\\\"start_time\\\": \\\"Mar 16 2020  1:33PM\\\",\\r\\n\\t\\t\\t\\t\\t\\\"end_time\\\": \\\"Mar 16 2020 1:02PM\\\"\\r\\n\\t\\t\\t\\t}\\r\\n\\t\\t\\t]\\r\\n\\t\\t},\\r\\n\\t\\t{\\r\\n\\t\\t\\t\\\"id\\\": \\\"W07QCRPA4\\\",\\r\\n\\t\\t\\t\\\"real_name\\\": \\\"Glinda Southgood\\\",\\r\\n\\t\\t\\t\\\"tz\\\": \\\"Asia/Kolkata\\\",\\r\\n\\t\\t\\t\\\"activity_periods\\\": [{\\r\\n\\t\\t\\t\\t\\t\\\"start_time\\\": \\\"Feb 1 2020  2:33PM\\\",\\r\\n\\t\\t\\t\\t\\t\\\"end_time\\\": \\\"Feb 1 2020 2:54PM\\\"\\r\\n\\t\\t\\t\\t},\\r\\n\\t\\t\\t\\t{\\r\\n\\t\\t\\t\\t\\t\\\"start_time\\\": \\\"Mar 1 2020  2:11AM\\\",\\r\\n\\t\\t\\t\\t\\t\\\"end_time\\\": \\\"Mar 1 2020 2:00PM\\\"\\r\\n\\t\\t\\t\\t},\\r\\n\\t\\t\\t\\t{\\r\\n\\t\\t\\t\\t\\t\\\"start_time\\\": \\\"Mar 16 2020  2:33PM\\\",\\r\\n\\t\\t\\t\\t\\t\\\"end_time\\\": \\\"Mar 16 2020 2:02PM\\\"\\r\\n\\t\\t\\t\\t}\\r\\n\\t\\t\\t]\\r\\n\\t\\t}\\r\\n\\t]\\r\\n}\"\n",
    "json.loads(payload)"
   ]
  },
  {
   "cell_type": "markdown",
   "metadata": {},
   "source": [
    "### API call from Python"
   ]
  },
  {
   "cell_type": "code",
   "execution_count": 18,
   "metadata": {
    "ExecuteTime": {
     "end_time": "2021-02-10T10:59:00.114327Z",
     "start_time": "2021-02-10T10:58:59.535030Z"
    }
   },
   "outputs": [
    {
     "name": "stdout",
     "output_type": "stream",
     "text": [
      "None\n"
     ]
    }
   ],
   "source": [
    "import requests\n",
    "\n",
    "url = \"http://LakkireddyMadhuri.pythonanywhere.com/sample/posts\"\n",
    "\n",
    "headers = {\n",
    "  'Content-Type': 'application/json',\n",
    "  'Cookie': 'csrftoken=6mbdxx7NHJWqf6Co5hgs1USNdaLrlGlTqzRMn7q1bp5XufD0rBDcMBNFM7MNzMtb'\n",
    "}\n",
    "\n",
    "response = requests.request(\"POST\", url, headers=headers, data=payload)\n",
    "print(response.text)"
   ]
  },
  {
   "cell_type": "markdown",
   "metadata": {},
   "source": [
    "### How to server data - GET @ `sample/gets`"
   ]
  },
  {
   "cell_type": "code",
   "execution_count": 19,
   "metadata": {
    "ExecuteTime": {
     "end_time": "2021-02-10T10:59:12.894697Z",
     "start_time": "2021-02-10T10:59:12.369095Z"
    }
   },
   "outputs": [
    {
     "data": {
      "text/plain": [
       "{'ok': 'true',\n",
       " 'members': [{'id': 'W012A3CDE',\n",
       "   'real_name': 'Egon Spengler',\n",
       "   'tz': 'America/Los_Angeles',\n",
       "   'activity_periods': [{'start_time': 'Feb 1 2020  1:33PM',\n",
       "     'end_time': 'Feb 1 2020 1:54PM'},\n",
       "    {'start_time': 'Mar 1 2020  1:11AM', 'end_time': 'Mar 1 2020 1:00PM'},\n",
       "    {'start_time': 'Mar 16 2020  1:33PM', 'end_time': 'Mar 16 2020 1:02PM'},\n",
       "    {'start_time': 'Feb 1 2020  1:33PM', 'end_time': 'Feb 1 2020 1:54PM'},\n",
       "    {'start_time': 'Mar 1 2020  1:11AM', 'end_time': 'Mar 1 2020 1:00PM'},\n",
       "    {'start_time': 'Mar 16 2020  1:33PM', 'end_time': 'Mar 16 2020 1:02PM'}]},\n",
       "  {'id': 'W07QCRPA4',\n",
       "   'real_name': 'Glinda Southgood',\n",
       "   'tz': 'Asia/Kolkata',\n",
       "   'activity_periods': [{'start_time': 'Feb 1 2020  2:33PM',\n",
       "     'end_time': 'Feb 1 2020 2:54PM'},\n",
       "    {'start_time': 'Mar 1 2020  2:11AM', 'end_time': 'Mar 1 2020 2:00PM'},\n",
       "    {'start_time': 'Mar 16 2020  2:33PM', 'end_time': 'Mar 16 2020 2:02PM'},\n",
       "    {'start_time': 'Feb 1 2020  2:33PM', 'end_time': 'Feb 1 2020 2:54PM'},\n",
       "    {'start_time': 'Mar 1 2020  2:11AM', 'end_time': 'Mar 1 2020 2:00PM'},\n",
       "    {'start_time': 'Mar 16 2020  2:33PM', 'end_time': 'Mar 16 2020 2:02PM'}]}]}"
      ]
     },
     "execution_count": 19,
     "metadata": {},
     "output_type": "execute_result"
    }
   ],
   "source": [
    "url = \"http://LakkireddyMadhuri.pythonanywhere.com/sample/gets\"\n",
    "\n",
    "headers = {\n",
    "  'Content-Type': 'application/json',\n",
    "  'Cookie': 'csrftoken=6mbdxx7NHJWqf6Co5hgs1USNdaLrlGlTqzRMn7q1bp5XufD0rBDcMBNFM7MNzMtb'\n",
    "}\n",
    "\n",
    "response = requests.request(\"GET\", url, headers=headers, data=payload)\n",
    "import json\n",
    "json.loads(response.text)"
   ]
  },
  {
   "cell_type": "markdown",
   "metadata": {},
   "source": [
    "## Database and API Functionality\n",
    "\n",
    "Database contains two tables\n",
    "1. User\n",
    "    * id (Primary Key)\n",
    "    * real_name\n",
    "    * tz\n",
    "2. ActivityPeriod\n",
    "    * id\n",
    "    * start_time\n",
    "    * end_time\n",
    "    \n",
    "If user already exists, then only `ActivityPeriod` table is updated. Otherwise, both `User` and `ActivityPeriod` tables are updated"
   ]
  }
 ],
 "metadata": {
  "kernelspec": {
   "display_name": "Python 3",
   "language": "python",
   "name": "python3"
  },
  "language_info": {
   "codemirror_mode": {
    "name": "ipython",
    "version": 3
   },
   "file_extension": ".py",
   "mimetype": "text/x-python",
   "name": "python",
   "nbconvert_exporter": "python",
   "pygments_lexer": "ipython3",
   "version": "3.7.6"
  }
 },
 "nbformat": 4,
 "nbformat_minor": 4
}
